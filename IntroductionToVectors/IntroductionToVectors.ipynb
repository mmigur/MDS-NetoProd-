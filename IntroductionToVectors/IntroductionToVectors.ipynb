{
 "cells": [
  {
   "cell_type": "code",
   "execution_count": 8,
   "id": "34034fce",
   "metadata": {},
   "outputs": [],
   "source": [
    "import numpy as np\n",
    "import sympy as sym"
   ]
  },
  {
   "cell_type": "markdown",
   "id": "31e08423",
   "metadata": {},
   "source": [
    "Представим фильмы в виде бинарных векторов (numpy array) используя следующие признаки:\n",
    "\n",
    "* Комедия\n",
    "* Боевик \n",
    "* Исторический\n",
    "* Бред Питт\n",
    "* Бенедикт Камбербэтч\n",
    "* Квентин Тарантино"
   ]
  },
  {
   "cell_type": "code",
   "execution_count": 25,
   "id": "a7d0c5d4",
   "metadata": {},
   "outputs": [],
   "source": [
    "film_1 = np.array([0,0,0,0,1,0])      # Игра в имитацию\n",
    "\n",
    "film_2 = np.array([0,1,0,1,0,0])      # Ярость\n",
    "\n",
    "film_3 = np.array([0,0,1,1,1,0])      # 12 лет рабства\n",
    "\n",
    "film_4 = np.array([1,0,0,1,0,1])      # Однажды в Голливуде"
   ]
  },
  {
   "cell_type": "markdown",
   "id": "7983f0da",
   "metadata": {},
   "source": [
    "## Задание 1\n",
    "Найти угол между векторами-фильмами \"Ярость\" и \"12 лет рабства\". Результатом будет являться косинусная мера, которую можно использовать для определения похожести векторов."
   ]
  },
  {
   "cell_type": "code",
   "execution_count": 7,
   "id": "84897438",
   "metadata": {},
   "outputs": [
    {
     "data": {
      "text/plain": [
       "65.90515744788931"
      ]
     },
     "execution_count": 7,
     "metadata": {},
     "output_type": "execute_result"
    }
   ],
   "source": [
    "np.rad2deg(\n",
    "    np.arccos(\n",
    "    np.dot(film_2, film_3) / (np.linalg.norm(film_2) * np.linalg.norm(film_3))\n",
    ")) # угол в градусах"
   ]
  },
  {
   "cell_type": "markdown",
   "id": "c5236e0a",
   "metadata": {},
   "source": [
    "## Задание 2"
   ]
  },
  {
   "cell_type": "markdown",
   "id": "d06248a8",
   "metadata": {},
   "source": [
    "Вычислить с помощью Python значение первой производной для функции 8 * x(x + 3) ^ 2 в точке x = 1"
   ]
  },
  {
   "cell_type": "code",
   "execution_count": 16,
   "id": "95d5fbc8",
   "metadata": {},
   "outputs": [],
   "source": [
    "x = sym.Symbol('x')"
   ]
  },
  {
   "cell_type": "code",
   "execution_count": 17,
   "id": "ed5cff4f",
   "metadata": {},
   "outputs": [],
   "source": [
    "function = 8 * x * (x + 3) ** 2"
   ]
  },
  {
   "cell_type": "code",
   "execution_count": 18,
   "id": "e92bb719",
   "metadata": {},
   "outputs": [
    {
     "data": {
      "text/latex": [
       "$\\displaystyle 192$"
      ],
      "text/plain": [
       "192"
      ]
     },
     "execution_count": 18,
     "metadata": {},
     "output_type": "execute_result"
    }
   ],
   "source": [
    "result = sym.diff(function)\n",
    "result.subs(x, 1)"
   ]
  },
  {
   "cell_type": "markdown",
   "id": "16da49b1",
   "metadata": {},
   "source": [
    "## Задание 3\n",
    "Объединить векторы фильмов в матрицу, где каждый вектор является строкой матрицы. Умножьте вектор [1,2,3,4] на полученную матрицу"
   ]
  },
  {
   "cell_type": "code",
   "execution_count": 19,
   "id": "5ad571eb",
   "metadata": {},
   "outputs": [],
   "source": [
    "films = np.array([\n",
    "    film_1,\n",
    "    film_2,\n",
    "    film_3,\n",
    "    film_4\n",
    "])"
   ]
  },
  {
   "cell_type": "code",
   "execution_count": 24,
   "id": "07691b1c",
   "metadata": {},
   "outputs": [
    {
     "data": {
      "text/plain": [
       "array([4, 2, 3, 9, 4, 4])"
      ]
     },
     "execution_count": 24,
     "metadata": {},
     "output_type": "execute_result"
    }
   ],
   "source": [
    "np.matmul([1, 2, 3, 4], films)"
   ]
  },
  {
   "cell_type": "code",
   "execution_count": null,
   "id": "e988f4ad",
   "metadata": {},
   "outputs": [],
   "source": []
  }
 ],
 "metadata": {
  "kernelspec": {
   "display_name": "Python 3 (ipykernel)",
   "language": "python",
   "name": "python3"
  },
  "language_info": {
   "codemirror_mode": {
    "name": "ipython",
    "version": 3
   },
   "file_extension": ".py",
   "mimetype": "text/x-python",
   "name": "python",
   "nbconvert_exporter": "python",
   "pygments_lexer": "ipython3",
   "version": "3.10.5"
  }
 },
 "nbformat": 4,
 "nbformat_minor": 5
}
