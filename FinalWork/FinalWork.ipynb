{
 "cells": [
  {
   "cell_type": "code",
   "execution_count": 2,
   "id": "575d7d6b",
   "metadata": {},
   "outputs": [],
   "source": [
    "import matplotlib.pyplot as plt\n",
    "import numpy as np\n",
    "import sympy\n",
    "from scipy.stats import norm\n",
    "from sklearn.metrics import pairwise_distances\n",
    "%matplotlib inline"
   ]
  },
  {
   "cell_type": "markdown",
   "id": "aabc1e9a",
   "metadata": {},
   "source": [
    "## Задание 1\n",
    "Вычислите производную функции:\n",
    "\n",
    "$tg^2(sin(x) + cos(2x + 3))$\n",
    "\n",
    "в точке $x0 = 1$"
   ]
  },
  {
   "cell_type": "code",
   "execution_count": 27,
   "id": "d334b096",
   "metadata": {},
   "outputs": [],
   "source": [
    "x = sympy.Symbol('x')\n",
    "function = sympy.tan(sympy.sin(x) + sympy.cos(2 * x + 3)) ** 2"
   ]
  },
  {
   "cell_type": "code",
   "execution_count": 28,
   "id": "57aa44a9",
   "metadata": {},
   "outputs": [],
   "source": [
    "derived_function = sympy.diff(function, x)"
   ]
  },
  {
   "cell_type": "code",
   "execution_count": 29,
   "id": "5d2f4b8d",
   "metadata": {},
   "outputs": [
    {
     "name": "stdout",
     "output_type": "stream",
     "text": [
      "Производная функции в точке x0 = 55.3859176353379\n"
     ]
    }
   ],
   "source": [
    "print('Производная функции в точке x0 = ' + str(derived_function.evalf(subs={'x': 1})))"
   ]
  },
  {
   "cell_type": "markdown",
   "id": "ff181ce5",
   "metadata": {},
   "source": [
    "## Задание 2\n",
    "Дан объект в $2D$ пространстве\n",
    "\n",
    "При помощи матричных операций выполните:\n",
    "\n",
    "* Масштабирование и смещение объекта (применить 2 матрицы трансформаций). Масштабирование на (0.5, 1.2) и смещение на (200, 300)"
   ]
  },
  {
   "cell_type": "code",
   "execution_count": 30,
   "id": "3cc13de7",
   "metadata": {},
   "outputs": [],
   "source": [
    "def show_object(matrix):\n",
    "    x = matrix[:,0]\n",
    "    y = matrix[:,1]\n",
    "    plt.plot(x, y)\n",
    "    plt.ylim([-200, 200])\n",
    "    plt.xlim([-200, 200])\n",
    "    plt.show()"
   ]
  },
  {
   "cell_type": "code",
   "execution_count": 31,
   "id": "06c3a732",
   "metadata": {},
   "outputs": [
    {
     "data": {
      "image/png": "[encoded data removed]",
      "text/plain": [
       "<Figure size 432x288 with 1 Axes>"
      ]
     },
     "metadata": {
      "needs_background": "light"
     },
     "output_type": "display_data"
    }
   ],
   "source": [
    "A = np.array([\n",
    "    [-100, -100, 1],\n",
    "    [0, 100, 1],\n",
    "    [100, -100, 1],\n",
    "    [-100, -100, 1]\n",
    "])\n",
    "\n",
    "show_object(A)"
   ]
  },
  {
   "cell_type": "markdown",
   "id": "caab1ef6",
   "metadata": {},
   "source": [
    "### Масштабирование на (0.5, 1.5)"
   ]
  },
  {
   "cell_type": "code",
   "execution_count": 32,
   "id": "ba1fde35",
   "metadata": {},
   "outputs": [
    {
     "data": {
      "image/png": "[encoded data removed]",
      "text/plain": [
       "<Figure size 432x288 with 1 Axes>"
      ]
     },
     "metadata": {
      "needs_background": "light"
     },
     "output_type": "display_data"
    }
   ],
   "source": [
    "SCALE = 0.5\n",
    "SCALE_MATRIX = np.array([\n",
    "    [0.5, 0, 0],\n",
    "    [0, 1.2, 0],\n",
    "    [0, 0, 1]\n",
    "])\n",
    "\n",
    "\n",
    "\n",
    "result_scaled_matrix = np.array([np.matmul(SCALE_MATRIX, vector) for vector in A])\n",
    "show_object(result_scaled_matrix)"
   ]
  },
  {
   "cell_type": "markdown",
   "id": "b9f97af2",
   "metadata": {},
   "source": [
    "### Cмещение на (200, 300)"
   ]
  },
  {
   "cell_type": "code",
   "execution_count": 33,
   "id": "315f5d39",
   "metadata": {},
   "outputs": [],
   "source": [
    "def sum_vector_elemets(vector1, vector2):\n",
    "    result_vectors_sum = []\n",
    "    for i in range(len(vector1)):\n",
    "        result_vectors_sum.append(vector1[i] + vector2[i])\n",
    "        \n",
    "    return np.array(result_vectors_sum)\n",
    "\n",
    "def show_biased_object(matrix):\n",
    "    x = matrix[:,0]\n",
    "    y = matrix[:,1]\n",
    "    plt.plot(x, y)\n",
    "    plt.xlim([-200, 600])\n",
    "    plt.ylim([-200, 800])\n",
    "    plt.show()"
   ]
  },
  {
   "cell_type": "code",
   "execution_count": 34,
   "id": "d73925fc",
   "metadata": {},
   "outputs": [
    {
     "data": {
      "image/png": "[encoded data removed]",
      "text/plain": [
       "<Figure size 432x288 with 1 Axes>"
      ]
     },
     "metadata": {
      "needs_background": "light"
     },
     "output_type": "display_data"
    }
   ],
   "source": [
    "BAISED_VECTOR = [[1,0,200],[0,1,300],[0,0,1]]\n",
    "baised_matrix = np.array([sum_vector_elemets(vector, BAISED_VECTOR) for vector in result_scaled_matrix])\n",
    "show_biased_object(baised_matrix)"
   ]
  },
  {
   "cell_type": "markdown",
   "id": "52d425f6",
   "metadata": {},
   "source": [
    "## Задание 3\n",
    "Найдите собственные значения и собственные вектора матрицы:"
   ]
  },
  {
   "cell_type": "code",
   "execution_count": 35,
   "id": "1c66a7aa",
   "metadata": {},
   "outputs": [],
   "source": [
    "MATRIX = np.array([\n",
    "    [1, 4], \n",
    "    [1, 1]\n",
    "])"
   ]
  },
  {
   "cell_type": "code",
   "execution_count": 36,
   "id": "3bbb49bb",
   "metadata": {},
   "outputs": [
    {
     "name": "stdout",
     "output_type": "stream",
     "text": [
      "Собственные значения: [ 3. -1.]\n",
      " Вектора матрицы:\n",
      " [[ 0.89442719 -0.89442719]\n",
      " [ 0.4472136   0.4472136 ]]\n"
     ]
    }
   ],
   "source": [
    "print(f'Собственные значения: {np.linalg.eig(MATRIX)[0]}\\n Вектора матрицы:\\n {np.linalg.eig(MATRIX)[1]}')"
   ]
  },
  {
   "cell_type": "markdown",
   "id": "dc43784d",
   "metadata": {},
   "source": [
    "## Задание 4\n",
    "Дана функция с неизвестными параметрами a и b, вам также известны значения функции $f(x)$ в точках $x$.\n",
    "\n",
    "Найдите оптимальные параметры a, b, минимизирующие абсолютную ошибку $error$."
   ]
  },
  {
   "cell_type": "code",
   "execution_count": 37,
   "id": "321d44c7",
   "metadata": {},
   "outputs": [],
   "source": [
    "def f(x, a, b):\n",
    "    return np.e ** a * np.sin(b * x) + x"
   ]
  },
  {
   "cell_type": "code",
   "execution_count": 38,
   "id": "872b089e",
   "metadata": {},
   "outputs": [],
   "source": [
    "x = np.array([0.        , 0.26315789, 0.52631579, 0.78947368, 1.05263158,\n",
    "              1.31578947, 1.57894737, 1.84210526, 2.10526316, 2.36842105,\n",
    "              2.63157895, 2.89473684, 3.15789474, 3.42105263, 3.68421053,\n",
    "              3.94736842, 4.21052632, 4.47368421, 4.73684211, 5.        ])\n",
    "\n",
    "fx = np.array([  0.        , -12.01819092, -18.90968634, -17.68786571,\n",
    "                -8.7529108 ,   4.27524517,  16.06801336,  21.81250213,\n",
    "                19.22059845,   9.48411207,  -3.22273056, -13.48576488,\n",
    "               -16.91096359, -11.95866834,  -0.58630088,  12.56873816,\n",
    "                22.12489421,  24.20292139,  18.04522521,   6.33211092])"
   ]
  },
  {
   "cell_type": "code",
   "execution_count": 39,
   "id": "298fbc59",
   "metadata": {},
   "outputs": [
    {
     "data": {
      "image/png": "[encoded data removed]",
      "text/plain": [
       "<Figure size 432x288 with 1 Axes>"
      ]
     },
     "metadata": {
      "needs_background": "light"
     },
     "output_type": "display_data"
    }
   ],
   "source": [
    "plt.plot(x, fx)\n",
    "plt.show()"
   ]
  },
  {
   "cell_type": "code",
   "execution_count": 40,
   "id": "a46b0a61",
   "metadata": {},
   "outputs": [],
   "source": [
    "def error(params, x, fx):\n",
    "    return np.sum(np.abs(fx - f(x, params[0], params[1])))"
   ]
  },
  {
   "cell_type": "code",
   "execution_count": null,
   "id": "83074a91",
   "metadata": {},
   "outputs": [],
   "source": []
  },
  {
   "cell_type": "code",
   "execution_count": null,
   "id": "5a6b2c96",
   "metadata": {},
   "outputs": [],
   "source": []
  },
  {
   "cell_type": "markdown",
   "id": "98f18d38",
   "metadata": {},
   "source": [
    "## Задание 5\n",
    "Дана матрица рейтингов фильмов (строки - пользователи (10 человек), столбцы - фильмы (15 фильмов))\n",
    "Необходимо найти наиболее похожего пользователя по косинусной метрике для каждого из пользователей (ответ: 10 пар вида (x, y), где y - наиболее похожий пользователь на пользователя x)."
   ]
  },
  {
   "cell_type": "code",
   "execution_count": 63,
   "id": "3c87c59c",
   "metadata": {},
   "outputs": [],
   "source": [
    "def seacrh_min_distance(distance_array):\n",
    "    distance_array_user = list(distance_array)\n",
    "    distance_array_user.remove(min(distance_array_user))\n",
    "    min_index = distance_array_user.index(min(distance_array_user)) + 1\n",
    "    return min_index"
   ]
  },
  {
   "cell_type": "code",
   "execution_count": 64,
   "id": "954b7e12",
   "metadata": {},
   "outputs": [],
   "source": [
    "raitings = np.array([[ 4,  4,  9,  4,  1,  6, 10,  7,  9,  6,  9,  2,  8,  6,  6],\n",
    "                     [ 9,  2,  5, 10,  7,  8, 10,  5,  6,  2,  1,  6,  8,  9,  7],\n",
    "                     [ 1,  6,  8,  8,  4,  9,  3,  8, 10,  5,  2,  6,  8,  1,  6],\n",
    "                     [ 6,  1,  9,  7,  7,  9,  2,  3,  5,  1,  6,  6,  3,  2,  7],\n",
    "                     [ 3,  7,  3,  5,  7,  9,  9,  6,  2,  9,  1,  2,  8, 10,  6],\n",
    "                     [ 8,  3,  7,  3,  8,  6,  1,  8,  8,  6,  1,  9,  4, 10,  1],\n",
    "                     [ 9,  8,  4,  8,  8, 10,  6,  1,  1,  2,  9,  5,  2,  7,  2],\n",
    "                     [ 4,  1,  6,  4,  3, 10,  4,  4,  2,  8,  7,  9,  3,  8,  3],\n",
    "                     [ 2,  7,  7,  6, 10,  6,  8,  9,  8,  6, 10,  1,  7, 10,  4],\n",
    "                     [ 5, 10,  8,  8,  9,  7,  2,  9,  9, 10,  8,  8,  8,  6, 10]])"
   ]
  },
  {
   "cell_type": "code",
   "execution_count": 65,
   "id": "52d29a7a",
   "metadata": {},
   "outputs": [],
   "source": [
    "pairwise_distances_array = pairwise_distances(raitings, metric='cosine')"
   ]
  },
  {
   "cell_type": "code",
   "execution_count": 66,
   "id": "a0d3ed5b",
   "metadata": {},
   "outputs": [],
   "source": [
    "result_array = []\n",
    "\n",
    "for i in range(len(pairwise_distances_array)):\n",
    "    for j in range(len(pairwise_distances_array[i])):\n",
    "        if pairwise_distances_array[i, j] == 0.0:\n",
    "            result_array.append((i, seacrh_min_distance(pairwise_distances_array[i])))"
   ]
  },
  {
   "cell_type": "code",
   "execution_count": 67,
   "id": "e61aa2ba",
   "metadata": {},
   "outputs": [
    {
     "data": {
      "text/plain": [
       "[(0, 8),\n",
       " (1, 4),\n",
       " (2, 9),\n",
       " (3, 9),\n",
       " (4, 8),\n",
       " (5, 9),\n",
       " (6, 4),\n",
       " (7, 6),\n",
       " (8, 1),\n",
       " (9, 3)]"
      ]
     },
     "execution_count": 67,
     "metadata": {},
     "output_type": "execute_result"
    }
   ],
   "source": [
    "# Первый столбец индекс пользователя\n",
    "# Второй столбец индекс наиболее похожего пользователя\n",
    "result_array "
   ]
  },
  {
   "cell_type": "code",
   "execution_count": null,
   "id": "fdf9ee05",
   "metadata": {},
   "outputs": [],
   "source": []
  }
 ],
 "metadata": {
  "kernelspec": {
   "display_name": "Python 3 (ipykernel)",
   "language": "python",
   "name": "python3"
  },
  "language_info": {
   "codemirror_mode": {
    "name": "ipython",
    "version": 3
   },
   "file_extension": ".py",
   "mimetype": "text/x-python",
   "name": "python",
   "nbconvert_exporter": "python",
   "pygments_lexer": "ipython3",
   "version": "3.10.5"
  }
 },
 "nbformat": 4,
 "nbformat_minor": 5
}
