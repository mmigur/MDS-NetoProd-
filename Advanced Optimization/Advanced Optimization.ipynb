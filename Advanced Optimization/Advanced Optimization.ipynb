{
 "cells": [
  {
   "cell_type": "code",
   "execution_count": 211,
   "id": "70006162",
   "metadata": {},
   "outputs": [],
   "source": [
    "import numpy as np\n",
    "from scipy.optimize import differential_evolution\n",
    "from scipy.optimize import minimize\n",
    "\n",
    "import matplotlib.pyplot as plt\n",
    "\n",
    "%matplotlib inline"
   ]
  },
  {
   "cell_type": "markdown",
   "id": "ca4bf7d3",
   "metadata": {},
   "source": [
    "## Задание\n",
    "При фиксированном seed=42 поэкспериментируйте с параметрами алгоритма differential_evolution: strategy, popsize, mutation.\n",
    "\n",
    "Постройте графики количества итераций (nit) оптимизации функции ackley от значения параметра.\n",
    "\n",
    "Подробнее о результате выдачи [тут](https://docs.scipy.org/doc/scipy/reference/generated/scipy.optimize.OptimizeResult.html)."
   ]
  },
  {
   "cell_type": "code",
   "execution_count": 213,
   "id": "5becbc03",
   "metadata": {},
   "outputs": [],
   "source": [
    "def ackley(x):\n",
    "    arg1 = -0.2 * np.sqrt(0.5 * (x[0] ** 2 + x[1] ** 2))\n",
    "    arg2 = 0.5 * (np.cos(2. * np.pi * x[0]) + np.cos(2. * np.pi * x[1]))\n",
    "    return -20. * np.exp(arg1) - np.exp(arg2) + 20. + np.e"
   ]
  },
  {
   "cell_type": "code",
   "execution_count": 188,
   "id": "305a609b",
   "metadata": {},
   "outputs": [],
   "source": [
    "BOUNDS = [(-10, 10), (-10, 10)]"
   ]
  },
  {
   "cell_type": "code",
   "execution_count": 189,
   "id": "1986a6f8",
   "metadata": {},
   "outputs": [
    {
     "data": {
      "text/plain": [
       "     fun: 3.574451877257783\n",
       "     jac: array([ 1.42108546e-06, -2.84217093e-06])\n",
       " message: 'Optimization terminated successfully.'\n",
       "    nfev: 82\n",
       "     nit: 10\n",
       " success: True\n",
       "       x: array([-0.96847764,  0.9684776 ])"
      ]
     },
     "execution_count": 189,
     "metadata": {},
     "output_type": "execute_result"
    }
   ],
   "source": [
    "result = differential_evolution(\n",
    "        ackley, \n",
    "        bounds=BOUNDS, \n",
    "        seed=42,\n",
    "        popsize=1,\n",
    "        mutation=1\n",
    ")\n",
    "result"
   ]
  },
  {
   "cell_type": "markdown",
   "id": "5bbcf1b2",
   "metadata": {},
   "source": [
    "### Количество итераций в зависимости от стратегии"
   ]
  },
  {
   "cell_type": "code",
   "execution_count": 190,
   "id": "671cdf19",
   "metadata": {},
   "outputs": [],
   "source": [
    "strategy_array = [\n",
    "    'best1bin',\n",
    "    'best1exp',\n",
    "    'rand1exp',\n",
    "    'randtobest1exp',\n",
    "    'currenttobest1exp',\n",
    "    'best2exp',\n",
    "    'randtobest1bin',\n",
    "    'currenttobest1bin',\n",
    "    'best2bin',\n",
    "    'rand1bin'\n",
    "]"
   ]
  },
  {
   "cell_type": "code",
   "execution_count": 191,
   "id": "cc8c878f",
   "metadata": {},
   "outputs": [],
   "source": [
    "count_iteration_depend_by_strategy = {}\n",
    "\n",
    "for strategy in strategy_array:\n",
    "    result = differential_evolution(\n",
    "        ackley, \n",
    "        bounds=BOUNDS, seed=42, \n",
    "        strategy=strategy, \n",
    "        popsize=1, \n",
    "        mutation=1)\n",
    "    count_iteration_depend_by_strategy[strategy] = result.nit"
   ]
  },
  {
   "cell_type": "code",
   "execution_count": 192,
   "id": "94331645",
   "metadata": {},
   "outputs": [
    {
     "data": {
      "image/png": "[encoded data removed]",
      "text/plain": [
       "<Figure size 432x288 with 1 Axes>"
      ]
     },
     "metadata": {
      "needs_background": "light"
     },
     "output_type": "display_data"
    }
   ],
   "source": [
    "plt.scatter(count_iteration_depend_by_strategy.values(), count_iteration_depend_by_strategy.keys());"
   ]
  },
  {
   "cell_type": "code",
   "execution_count": 193,
   "id": "912a6d93",
   "metadata": {},
   "outputs": [],
   "source": [
    "best_strategy = min(count_iteration_depend_by_strategy) ## самый оптимальный параметр"
   ]
  },
  {
   "cell_type": "markdown",
   "id": "c0ae0636",
   "metadata": {},
   "source": [
    "### Количество итераций в зависимости от размера популяции"
   ]
  },
  {
   "cell_type": "code",
   "execution_count": 194,
   "id": "7898dd6d",
   "metadata": {},
   "outputs": [],
   "source": [
    "popsize_range = np.arange(1, 10, 1)\n",
    "count_iteration_depend_by_popsize = [] "
   ]
  },
  {
   "cell_type": "code",
   "execution_count": 195,
   "id": "3fc75ae6",
   "metadata": {},
   "outputs": [],
   "source": [
    "for item in popsize_range:\n",
    "    result = differential_evolution(\n",
    "        ackley, \n",
    "        bounds=BOUNDS,\n",
    "        seed=42,\n",
    "        strategy=best_strategy,\n",
    "        popsize=item,\n",
    "        mutation=1\n",
    "    )\n",
    "    count_iteration_depend_by_popsize.append(result.nit)"
   ]
  },
  {
   "cell_type": "code",
   "execution_count": 196,
   "id": "d1ad1dcf",
   "metadata": {},
   "outputs": [
    {
     "data": {
      "image/png": "[encoded data removed]",
      "text/plain": [
       "<Figure size 432x288 with 1 Axes>"
      ]
     },
     "metadata": {
      "needs_background": "light"
     },
     "output_type": "display_data"
    }
   ],
   "source": [
    "plt.plot(count_iteration_depend_by_popsize)\n",
    "plt.title('График зависимости размера популяции и количество итераций')\n",
    "plt.xlabel('Размер популяции')\n",
    "plt.ylabel('Количество итераций')\n",
    "plt.show()"
   ]
  },
  {
   "cell_type": "code",
   "execution_count": 197,
   "id": "bd34b1d4",
   "metadata": {},
   "outputs": [],
   "source": [
    "best_popsize = 1 # Оптимальный размер популяции"
   ]
  },
  {
   "cell_type": "markdown",
   "id": "f32a74d5",
   "metadata": {},
   "source": [
    "### Количество итераций в зависимости от мутации"
   ]
  },
  {
   "cell_type": "code",
   "execution_count": 198,
   "id": "d330f325",
   "metadata": {},
   "outputs": [],
   "source": [
    "mutation_range = np.arange(0, 2, 0.1)"
   ]
  },
  {
   "cell_type": "code",
   "execution_count": 199,
   "id": "50062d33",
   "metadata": {},
   "outputs": [],
   "source": [
    "count_iteration_depend_by_mutation = []\n",
    "for item in mutation_range:\n",
    "    result = differential_evolution(\n",
    "        ackley, \n",
    "        bounds=BOUNDS,\n",
    "        seed=42,\n",
    "        strategy=best_strategy,\n",
    "        popsize=best_popsize,\n",
    "        mutation=item\n",
    "    )\n",
    "    count_iteration_depend_by_mutation.append(result.nit)"
   ]
  },
  {
   "cell_type": "code",
   "execution_count": 202,
   "id": "1e92a233",
   "metadata": {},
   "outputs": [
    {
     "data": {
      "image/png": "[encoded data removed]",
      "text/plain": [
       "<Figure size 432x288 with 1 Axes>"
      ]
     },
     "metadata": {
      "needs_background": "light"
     },
     "output_type": "display_data"
    }
   ],
   "source": [
    "plt.plot(count_iteration_depend_by_mutation)\n",
    "plt.title('Количество итераций в зависимости от мутации')\n",
    "plt.xlabel('Количество мутаций')\n",
    "plt.ylabel('Количество итераций')\n",
    "plt.show()"
   ]
  },
  {
   "cell_type": "code",
   "execution_count": 203,
   "id": "b7d92187",
   "metadata": {},
   "outputs": [],
   "source": [
    "best_mutation = 0"
   ]
  },
  {
   "cell_type": "markdown",
   "id": "2e15defb",
   "metadata": {},
   "source": [
    "### Оптимизация с лучшими параметрами"
   ]
  },
  {
   "cell_type": "code",
   "execution_count": 208,
   "id": "1a8517fc",
   "metadata": {},
   "outputs": [
    {
     "data": {
      "text/plain": [
       "     fun: 7.038850555686631\n",
       " message: 'Optimization terminated successfully.'\n",
       "    nfev: 265\n",
       "     nit: 1\n",
       " success: True\n",
       "       x: array([-1.37592544, -1.37602192])"
      ]
     },
     "execution_count": 208,
     "metadata": {},
     "output_type": "execute_result"
    }
   ],
   "source": [
    "result = differential_evolution(\n",
    "        ackley, \n",
    "        bounds=BOUNDS,\n",
    "        seed=42,\n",
    "        strategy=best_strategy,\n",
    "        popsize=best_popsize,\n",
    "        mutation=best_mutation\n",
    ")\n",
    "result"
   ]
  },
  {
   "cell_type": "markdown",
   "id": "88be72cc",
   "metadata": {},
   "source": [
    "## Дополнительное задание\n",
    "Поэкспериментируйте с параметрами и оптимизацией через minimize:"
   ]
  },
  {
   "cell_type": "code",
   "execution_count": 226,
   "id": "3862893b",
   "metadata": {},
   "outputs": [
    {
     "data": {
      "text/plain": [
       " final_simplex: (array([[0.     , 0.     ],\n",
       "       [0.00025, 0.     ],\n",
       "       [0.     , 0.00025]]), array([4.44089210e-16, 7.08771053e-04, 7.08771053e-04]))\n",
       "           fun: 4.440892098500626e-16\n",
       "       message: 'Optimization terminated successfully.'\n",
       "          nfev: 3\n",
       "           nit: 1\n",
       "        status: 0\n",
       "       success: True\n",
       "             x: array([0., 0.])"
      ]
     },
     "execution_count": 226,
     "metadata": {},
     "output_type": "execute_result"
    }
   ],
   "source": [
    "x0 = [0,0]\n",
    "\n",
    "result_m = minimize(\n",
    "    fun=ackley, \n",
    "    x0=x0,  \n",
    "    method='Nelder-Mead',\n",
    "    tol=1e-1,\n",
    "    bounds=[(-10, 10), (-10, 10)]\n",
    ")\n",
    "result_m"
   ]
  },
  {
   "cell_type": "code",
   "execution_count": null,
   "id": "97ab94b4",
   "metadata": {},
   "outputs": [],
   "source": []
  }
 ],
 "metadata": {
  "kernelspec": {
   "display_name": "Python 3 (ipykernel)",
   "language": "python",
   "name": "python3"
  },
  "language_info": {
   "codemirror_mode": {
    "name": "ipython",
    "version": 3
   },
   "file_extension": ".py",
   "mimetype": "text/x-python",
   "name": "python",
   "nbconvert_exporter": "python",
   "pygments_lexer": "ipython3",
   "version": "3.10.5"
  }
 },
 "nbformat": 4,
 "nbformat_minor": 5
}
