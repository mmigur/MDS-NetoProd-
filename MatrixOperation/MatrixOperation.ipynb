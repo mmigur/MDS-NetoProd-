{
 "cells": [
  {
   "cell_type": "code",
   "execution_count": 1,
   "id": "c8b20af5",
   "metadata": {},
   "outputs": [],
   "source": [
    "import numpy as np"
   ]
  },
  {
   "cell_type": "markdown",
   "id": "e291a747",
   "metadata": {},
   "source": [
    "## Задание 1\n",
    "* Создайте матрицу 3 на 3, заполненную числами от 1 до 9\n",
    "* Прибавьте к ней матрицу с единицами на диагонале\n",
    "* Умножьте полученную матрицу на вектор (1, 2, 3)\n",
    "* Вычислить транспонированную матрицу A от полученной в результате прибавления матрицы\n",
    "* Посчитайте обратную матрицу к полученной в результате прибавления матрице"
   ]
  },
  {
   "cell_type": "code",
   "execution_count": 5,
   "id": "9b76e975",
   "metadata": {},
   "outputs": [],
   "source": [
    "matrix = np.array([\n",
    "    [1, 2, 3], \n",
    "    [4, 5, 6], \n",
    "    [7, 8, 9]\n",
    "])\n",
    "\n",
    "eye_matrix = np.eye(3) \n",
    "\n",
    "vector = np.array([1, 2, 3])"
   ]
  },
  {
   "cell_type": "code",
   "execution_count": 16,
   "id": "a89d46f5",
   "metadata": {},
   "outputs": [
    {
     "name": "stdout",
     "output_type": "stream",
     "text": [
      "1) - [[ 2.  2.  3.]\n",
      " [ 4.  6.  6.]\n",
      " [ 7.  8. 10.]]\n",
      "\n",
      "2) - [15. 34. 53.]\n",
      "\n",
      "3) - [[ 2.  4.  7.]\n",
      " [ 2.  6.  8.]\n",
      " [ 3.  6. 10.]]\n",
      "\n",
      "4) - [[-6.00000000e+00 -2.00000000e+00  3.00000000e+00]\n",
      " [-1.00000000e+00  5.00000000e-01  5.44009282e-16]\n",
      " [ 5.00000000e+00  1.00000000e+00 -2.00000000e+00]]\n"
     ]
    }
   ],
   "source": [
    "print(f'1) - {matrix + eye_matrix}\\n')\n",
    "print(f'2) - {np.matmul(matrix + eye_matrix, vector)}\\n')\n",
    "print(f'3) - {np.transpose(matrix + eye_matrix)}\\n')\n",
    "print(f'4) - {np.linalg.inv(matrix + eye_matrix)}')"
   ]
  },
  {
   "cell_type": "markdown",
   "id": "b47b20ad",
   "metadata": {},
   "source": [
    "## Задание 2\n",
    "Найдите собственные значения и собственные вектора матрицы"
   ]
  },
  {
   "cell_type": "code",
   "execution_count": 17,
   "id": "5342a166",
   "metadata": {},
   "outputs": [],
   "source": [
    "matrix = np.array([[2, 2],\n",
    "              [1, 3]])"
   ]
  },
  {
   "cell_type": "code",
   "execution_count": 20,
   "id": "c3d0329c",
   "metadata": {},
   "outputs": [
    {
     "name": "stdout",
     "output_type": "stream",
     "text": [
      "Собственные значения: [1. 4.]\n",
      " Вектор матрицы: [[-0.89442719 -0.70710678]\n",
      " [ 0.4472136  -0.70710678]]\n"
     ]
    }
   ],
   "source": [
    "print(f'Собственные значения: {np.linalg.eig(matrix)[0]}\\n Вектор матрицы: {np.linalg.eig(matrix)[1]}')"
   ]
  },
  {
   "cell_type": "markdown",
   "id": "95bf731a",
   "metadata": {},
   "source": [
    "## Задание 3\n",
    "Придумайте матрицу, у которой определитель = 1, и все элементы не равны 0.\n",
    "\n",
    "P.S. Матрица должна быть ненулевой и размерностью не менее 2!"
   ]
  },
  {
   "cell_type": "code",
   "execution_count": 23,
   "id": "a08cf589",
   "metadata": {},
   "outputs": [],
   "source": [
    "matrix = np.array([\n",
    "    [2, 1],\n",
    "    [1, 1]\n",
    "])"
   ]
  },
  {
   "cell_type": "code",
   "execution_count": 24,
   "id": "e12c222f",
   "metadata": {},
   "outputs": [
    {
     "data": {
      "text/plain": [
       "1.0"
      ]
     },
     "execution_count": 24,
     "metadata": {},
     "output_type": "execute_result"
    }
   ],
   "source": [
    "np.linalg.det(matrix)"
   ]
  },
  {
   "cell_type": "code",
   "execution_count": null,
   "id": "9f0814c5",
   "metadata": {},
   "outputs": [],
   "source": []
  }
 ],
 "metadata": {
  "kernelspec": {
   "display_name": "Python 3 (ipykernel)",
   "language": "python",
   "name": "python3"
  },
  "language_info": {
   "codemirror_mode": {
    "name": "ipython",
    "version": 3
   },
   "file_extension": ".py",
   "mimetype": "text/x-python",
   "name": "python",
   "nbconvert_exporter": "python",
   "pygments_lexer": "ipython3",
   "version": "3.10.5"
  }
 },
 "nbformat": 4,
 "nbformat_minor": 5
}
